{
  "nbformat": 4,
  "nbformat_minor": 0,
  "metadata": {
    "colab": {
      "name": "Basic_k_means_alg",
      "provenance": [],
      "collapsed_sections": [],
      "include_colab_link": true
    },
    "kernelspec": {
      "name": "python3",
      "display_name": "Python 3"
    }
  },
  "cells": [
    {
      "cell_type": "markdown",
      "metadata": {
        "id": "view-in-github",
        "colab_type": "text"
      },
      "source": [
        "<a href=\"https://colab.research.google.com/github/ACM-Research/covid-genetic-analysis/blob/k-means/Basic_k_means_alg.ipynb\" target=\"_parent\"><img src=\"https://colab.research.google.com/assets/colab-badge.svg\" alt=\"Open In Colab\"/></a>"
      ]
    },
    {
      "cell_type": "code",
      "metadata": {
        "colab": {
          "base_uri": "https://localhost:8080/"
        },
        "id": "nbhDQ-QB53eP",
        "outputId": "bfaf9fa0-1f13-4f1f-c27b-5c74aefcfdd2"
      },
      "source": [
        "!pip install BioPython\n",
        "from Bio.Cluster import kcluster\n",
        "import numpy as np\n",
        "sequences = [\n",
        "  'ADHAMKCAIROSURBANDJVUGLOBALIZATIONANDURBANFANTASIESPLA',\n",
        "  'AGGESTAMKTHEARABSTATEANDNEOLIBERALGLOBALIZATIONTHEARAB',\n",
        "  'AGGESTAMKTHEARABSTATEANDNEOLIBERALGLOBALIZATIONTHEARAB',\n",
        "  'AGGESTAMKTHEARABSTATEANDNEOLIBERALGLOBALIZATIONTHEARAB'\n",
        "]\n",
        "matrix = np.asarray([np.fromstring(s, dtype=np.uint8) for s in sequences])\n",
        "clusterid, error, nfound = kcluster(matrix)\n",
        "print(clusterid)"
      ],
      "execution_count": null,
      "outputs": [
        {
          "output_type": "stream",
          "text": [
            "Requirement already satisfied: BioPython in /usr/local/lib/python3.7/dist-packages (1.78)\n",
            "Requirement already satisfied: numpy in /usr/local/lib/python3.7/dist-packages (from BioPython) (1.19.5)\n",
            "[0 1 1 1]\n"
          ],
          "name": "stdout"
        },
        {
          "output_type": "stream",
          "text": [
            "/usr/local/lib/python3.7/dist-packages/ipykernel_launcher.py:10: DeprecationWarning: The binary mode of fromstring is deprecated, as it behaves surprisingly on unicode inputs. Use frombuffer instead\n",
            "  # Remove the CWD from sys.path while we load stuff.\n"
          ],
          "name": "stderr"
        }
      ]
    },
    {
      "cell_type": "code",
      "metadata": {
        "colab": {
          "base_uri": "https://localhost:8080/"
        },
        "id": "74f0HHq1emNt",
        "outputId": "88fc1eee-f674-40f3-df29-e390cd3b99dd"
      },
      "source": [
        "from google.colab import drive\n",
        "drive.mount('/content/drive/My Drive/college/utd/covid')"
      ],
      "execution_count": null,
      "outputs": [
        {
          "output_type": "stream",
          "text": [
            "Mounted at /content/drive\n"
          ],
          "name": "stdout"
        }
      ]
    }
  ]
}