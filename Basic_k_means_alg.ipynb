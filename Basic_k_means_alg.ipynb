{
  "nbformat": 4,
  "nbformat_minor": 0,
  "metadata": {
    "colab": {
      "name": "Basic_k_means_alg",
      "provenance": [],
      "collapsed_sections": [],
      "include_colab_link": true
    },
    "kernelspec": {
      "name": "python3",
      "display_name": "Python 3"
    }
  },
  "cells": [
    {
      "cell_type": "markdown",
      "metadata": {
        "id": "view-in-github",
        "colab_type": "text"
      },
      "source": [
        "<a href=\"https://colab.research.google.com/github/ACM-Research/covid-genetic-analysis/blob/k-means/Basic_k_means_alg.ipynb\" target=\"_parent\"><img src=\"https://colab.research.google.com/assets/colab-badge.svg\" alt=\"Open In Colab\"/></a>"
      ]
    },
    {
      "cell_type": "code",
      "metadata": {
        "id": "7Jj1XLx2ioN6",
        "colab": {
          "base_uri": "https://localhost:8080/"
        },
        "outputId": "799bfd82-36dd-41f3-ec6d-84cc79da9551"
      },
      "source": [
        "# don't run multiple times (if it creates the same folder terminate your session)\r\n",
        "!git clone https://github.com/ACM-Research/covid-genetic-analysis.git\r\n",
        "%cd covid-genetic-analysis\r\n",
        "!git checkout k-means\r\n",
        "!git pull"
      ],
      "execution_count": null,
      "outputs": [
        {
          "output_type": "stream",
          "text": [
            "Cloning into 'covid-genetic-analysis'...\n",
            "remote: Enumerating objects: 185, done.\u001b[K\n",
            "remote: Counting objects: 100% (185/185), done.\u001b[K\n",
            "remote: Compressing objects: 100% (175/175), done.\u001b[K\n",
            "remote: Total 185 (delta 90), reused 26 (delta 2), pack-reused 0\u001b[K\n",
            "Receiving objects: 100% (185/185), 25.99 MiB | 22.48 MiB/s, done.\n",
            "Resolving deltas: 100% (90/90), done.\n",
            "/content/covid-genetic-analysis/covid-genetic-analysis/covid-genetic-analysis/covid-genetic-analysis/covid-genetic-analysis/covid-genetic-analysis/covid-genetic-analysis/covid-genetic-analysis/covid-genetic-analysis/covid-genetic-analysis/covid-genetic-analysis/covid-genetic-analysis/covid-genetic-analysis/covid-genetic-analysis\n",
            "Branch 'k-means' set up to track remote branch 'k-means' from 'origin'.\n",
            "Switched to a new branch 'k-means'\n",
            "Already up to date.\n"
          ],
          "name": "stdout"
        }
      ]
    },
    {
      "cell_type": "code",
      "metadata": {
        "colab": {
          "base_uri": "https://localhost:8080/"
        },
        "id": "iBIqPaYTtzXU",
        "outputId": "811bb863-1ccd-4592-d206-9f6b6fadc688"
      },
      "source": [
        "!pip install BioPython\r\n",
        "from Bio.Cluster import kcluster\r\n",
        "import numpy as np\r\n",
        "import os"
      ],
      "execution_count": null,
      "outputs": [
        {
          "output_type": "stream",
          "text": [
            "Requirement already satisfied: BioPython in /usr/local/lib/python3.7/dist-packages (1.78)\n",
            "Requirement already satisfied: numpy in /usr/local/lib/python3.7/dist-packages (from BioPython) (1.19.5)\n"
          ],
          "name": "stdout"
        }
      ]
    },
    {
      "cell_type": "code",
      "metadata": {
        "colab": {
          "base_uri": "https://localhost:8080/"
        },
        "id": "olQ5hB1U0RrR",
        "outputId": "bd41b224-94b5-443a-bf41-eebd6370b85f"
      },
      "source": [
        "sequences = []\r\n",
        "print(os.getcwd())\r\n",
        "path = '/content/covid-genetic-analysis/Glycoprotein Sequences'\r\n",
        "i=0\r\n",
        "for filename in os.listdir(path):\r\n",
        "  with open(os.path.join(path, filename), 'r') as f: # open in readonly mode\r\n",
        "      file_content = f.read().replace('\\n','')\r\n",
        "      sequences.append(file_content[i])\r\n",
        "      i=i+1\r\n",
        "\r\n",
        "matrix = np.asarray([np.fromstring(s, dtype=np.uint8) for s in sequences])\r\n",
        "clusterid, error, nfound = kcluster(matrix, nclusters=3, npass=20)\r\n",
        "print(clusterid)\r\n",
        "print(error)\r\n",
        "print(nfound)\r\n"
      ],
      "execution_count": null,
      "outputs": [
        {
          "output_type": "stream",
          "text": [
            "/content/covid-genetic-analysis/covid-genetic-analysis/covid-genetic-analysis/covid-genetic-analysis/covid-genetic-analysis/covid-genetic-analysis/covid-genetic-analysis/covid-genetic-analysis/covid-genetic-analysis/covid-genetic-analysis/covid-genetic-analysis/covid-genetic-analysis/covid-genetic-analysis/covid-genetic-analysis\n",
            "[0 1 2 1 1 1 2 1 1 1 1 1 0]\n",
            "2.0\n",
            "7\n"
          ],
          "name": "stdout"
        },
        {
          "output_type": "stream",
          "text": [
            "/usr/local/lib/python3.7/dist-packages/ipykernel_launcher.py:11: DeprecationWarning: The binary mode of fromstring is deprecated, as it behaves surprisingly on unicode inputs. Use frombuffer instead\n",
            "  # This is added back by InteractiveShellApp.init_path()\n"
          ],
          "name": "stderr"
        }
      ]
    },
    {
      "cell_type": "code",
      "metadata": {
        "colab": {
          "base_uri": "https://localhost:8080/",
          "height": 290
        },
        "id": "nbhDQ-QB53eP",
        "outputId": "6202f65f-09e7-4100-cd6c-9b1efa505746"
      },
      "source": [
        "print(os.getcwd())\n",
        "%cd /content/covid-genetic-analysis/Glycoprotein Sequences\n",
        "sa = open('162_1.txt', 'r')\n",
        "uk1 = open('186_1.txt', 'r')\n",
        "uk2 = open('186_2.txt', 'r')\n",
        "uk3 = open('186_3.txt', 'r')\n",
        "br1 = open('24_1.txt', 'r')\n",
        "br2 = open('24_2.txt', 'r')\n",
        "br3 = open('24_3.txt', 'r')\n",
        "br4 = open('24_4.txt', 'r')\n",
        "br5 = open('24_5.txt', 'r')\n",
        "china1 = open('37_1.txt', 'r')\n",
        "china2 = open('37_2.txt', 'r')\n",
        "china3 = open('37_3.txt', 'r')\n",
        "china4 = open('37_4.txt', 'r')\n",
        "\n",
        "sa_content = sa.read().replace('\\n','')\n",
        "uk1_content = uk1.read().replace('\\n','')\n",
        "uk2_content = uk2.read().replace('\\n','')\n",
        "uk3_content = uk3.read().replace('\\n','')\n",
        "br1_content = br1.read().replace('\\n','')\n",
        "br2_content = br2.read().replace('\\n','')\n",
        "br3_content = br3.read().replace('\\n','')\n",
        "br4_content = br4.read().replace('\\n','')\n",
        "br5_content = br5.read().replace('\\n','')\n",
        "china1_content = china1.read().replace('\\n','')\n",
        "china2_content = china2.read().replace('\\n','')\n",
        "china3_content = china3.read().replace('\\n','')\n",
        "china4_content = china4.read().replace('\\n','')\n",
        "\n",
        "sequences = []\n",
        "sequences.append(sa_content)\n",
        "sequences.append(uk1_content)\n",
        "sequences.append(uk2_content)\n",
        "sequences.append(uk3_content)\n",
        "sequences.append(br1_content)\n",
        "sequences.append(br2_content)\n",
        "sequences.append(br3_content)\n",
        "sequences.append(br4_content)\n",
        "sequences.append(br5_content)\n",
        "sequences.append(china1_content)\n",
        "sequences.append(china2_content)\n",
        "sequences.append(china3_content)\n",
        "sequences.append(china4_content)\n",
        "\n",
        "\n",
        "\n",
        "matrix = np.asarray([np.fromstring(s, dtype=np.uint8) for s in sequences])\n",
        "clusterid, error, nfound = kcluster(matrix, nclusters=3, npass=10)\n",
        "print(clusterid)\n",
        "print(error)\n",
        "print(nfound)"
      ],
      "execution_count": null,
      "outputs": [
        {
          "output_type": "stream",
          "text": [
            "/content/covid-genetic-analysis/covid-genetic-analysis/covid-genetic-analysis/covid-genetic-analysis/covid-genetic-analysis/covid-genetic-analysis/covid-genetic-analysis/covid-genetic-analysis/covid-genetic-analysis/covid-genetic-analysis/covid-genetic-analysis/covid-genetic-analysis/covid-genetic-analysis/covid-genetic-analysis\n",
            "/content/covid-genetic-analysis/Glycoprotein Sequences\n"
          ],
          "name": "stdout"
        },
        {
          "output_type": "error",
          "ename": "FileNotFoundError",
          "evalue": "ignored",
          "traceback": [
            "\u001b[0;31m---------------------------------------------------------------------------\u001b[0m",
            "\u001b[0;31mFileNotFoundError\u001b[0m                         Traceback (most recent call last)",
            "\u001b[0;32m<ipython-input-65-62755e5fada6>\u001b[0m in \u001b[0;36m<module>\u001b[0;34m()\u001b[0m\n\u001b[1;32m      1\u001b[0m \u001b[0mprint\u001b[0m\u001b[0;34m(\u001b[0m\u001b[0mos\u001b[0m\u001b[0;34m.\u001b[0m\u001b[0mgetcwd\u001b[0m\u001b[0;34m(\u001b[0m\u001b[0;34m)\u001b[0m\u001b[0;34m)\u001b[0m\u001b[0;34m\u001b[0m\u001b[0;34m\u001b[0m\u001b[0m\n\u001b[1;32m      2\u001b[0m \u001b[0mget_ipython\u001b[0m\u001b[0;34m(\u001b[0m\u001b[0;34m)\u001b[0m\u001b[0;34m.\u001b[0m\u001b[0mmagic\u001b[0m\u001b[0;34m(\u001b[0m\u001b[0;34m'cd /content/covid-genetic-analysis/Glycoprotein Sequences'\u001b[0m\u001b[0;34m)\u001b[0m\u001b[0;34m\u001b[0m\u001b[0;34m\u001b[0m\u001b[0m\n\u001b[0;32m----> 3\u001b[0;31m \u001b[0msa\u001b[0m \u001b[0;34m=\u001b[0m \u001b[0mopen\u001b[0m\u001b[0;34m(\u001b[0m\u001b[0;34m'162_1.txt'\u001b[0m\u001b[0;34m,\u001b[0m \u001b[0;34m'r'\u001b[0m\u001b[0;34m)\u001b[0m\u001b[0;34m\u001b[0m\u001b[0;34m\u001b[0m\u001b[0m\n\u001b[0m\u001b[1;32m      4\u001b[0m \u001b[0muk1\u001b[0m \u001b[0;34m=\u001b[0m \u001b[0mopen\u001b[0m\u001b[0;34m(\u001b[0m\u001b[0;34m'186_1.txt'\u001b[0m\u001b[0;34m,\u001b[0m \u001b[0;34m'r'\u001b[0m\u001b[0;34m)\u001b[0m\u001b[0;34m\u001b[0m\u001b[0;34m\u001b[0m\u001b[0m\n\u001b[1;32m      5\u001b[0m \u001b[0muk2\u001b[0m \u001b[0;34m=\u001b[0m \u001b[0mopen\u001b[0m\u001b[0;34m(\u001b[0m\u001b[0;34m'186_2.txt'\u001b[0m\u001b[0;34m,\u001b[0m \u001b[0;34m'r'\u001b[0m\u001b[0;34m)\u001b[0m\u001b[0;34m\u001b[0m\u001b[0;34m\u001b[0m\u001b[0m\n",
            "\u001b[0;31mFileNotFoundError\u001b[0m: [Errno 2] No such file or directory: '162_1.txt'"
          ]
        }
      ]
    }
  ]
}