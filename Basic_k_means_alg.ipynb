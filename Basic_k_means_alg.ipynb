{
  "nbformat": 4,
  "nbformat_minor": 0,
  "metadata": {
    "colab": {
      "name": "Basic_k_means_alg",
      "provenance": [],
      "collapsed_sections": [],
      "include_colab_link": true
    },
    "kernelspec": {
      "name": "python3",
      "display_name": "Python 3"
    }
  },
  "cells": [
    {
      "cell_type": "markdown",
      "metadata": {
        "id": "view-in-github",
        "colab_type": "text"
      },
      "source": [
        "<a href=\"https://colab.research.google.com/github/ACM-Research/covid-genetic-analysis/blob/k-means/Basic_k_means_alg.ipynb\" target=\"_parent\"><img src=\"https://colab.research.google.com/assets/colab-badge.svg\" alt=\"Open In Colab\"/></a>"
      ]
    },
    {
      "cell_type": "code",
      "metadata": {
        "id": "7Jj1XLx2ioN6",
        "colab": {
          "base_uri": "https://localhost:8080/"
        },
        "outputId": "21a5ebaf-3281-4e99-8c85-62b670a586a9"
      },
      "source": [
        "!git clone https://github.com/ACM-Research/covid-genetic-analysis.git\r\n",
        "%cd covid-genetic-analysis\r\n",
        "!git checkout k-means\r\n",
        "!git pull"
      ],
      "execution_count": null,
      "outputs": [
        {
          "output_type": "stream",
          "text": [
            "Cloning into 'covid-genetic-analysis'...\n",
            "remote: Enumerating objects: 124, done.\u001b[K\n",
            "remote: Counting objects: 100% (124/124), done.\u001b[K\n",
            "remote: Compressing objects: 100% (114/114), done.\u001b[K\n",
            "remote: Total 124 (delta 47), reused 26 (delta 2), pack-reused 0\u001b[K\n",
            "Receiving objects: 100% (124/124), 25.98 MiB | 17.56 MiB/s, done.\n",
            "Resolving deltas: 100% (47/47), done.\n",
            "/content/covid-genetic-analysis\n",
            "Branch 'k-means' set up to track remote branch 'k-means' from 'origin'.\n",
            "Switched to a new branch 'k-means'\n",
            "Already up to date.\n"
          ],
          "name": "stdout"
        }
      ]
    },
    {
      "cell_type": "code",
      "metadata": {
        "colab": {
          "base_uri": "https://localhost:8080/"
        },
        "id": "iBIqPaYTtzXU",
        "outputId": "c7bcf558-1e20-4042-fe53-5db4a9265356"
      },
      "source": [
        "!pip install BioPython\r\n",
        "from Bio.Cluster import kcluster\r\n",
        "import numpy as np"
      ],
      "execution_count": 42,
      "outputs": [
        {
          "output_type": "stream",
          "text": [
            "Requirement already satisfied: BioPython in /usr/local/lib/python3.7/dist-packages (1.78)\n",
            "Requirement already satisfied: numpy in /usr/local/lib/python3.7/dist-packages (from BioPython) (1.19.5)\n"
          ],
          "name": "stdout"
        }
      ]
    },
    {
      "cell_type": "code",
      "metadata": {
        "colab": {
          "base_uri": "https://localhost:8080/"
        },
        "id": "nbhDQ-QB53eP",
        "outputId": "3f6807d5-c992-4e29-c1ee-d92aee38fe82"
      },
      "source": [
        "uk1 = open('Glycoprotein Sequences/uk1.txt', 'r')\n",
        "uk3 = open('Glycoprotein Sequences/uk3.txt', 'r')\n",
        "sa = open('Glycoprotein Sequences/southAfricaVariant.txt', 'r')\n",
        "china1 = open('Glycoprotein Sequences/NC_045512.txt', 'r')\n",
        "china2 = open('Glycoprotein Sequences/MN938384.txt', 'r')\n",
        "china3 = open('Glycoprotein Sequences/MN996527.txt', 'r')\n",
        "china4 = open('Glycoprotein Sequences/MT259227.txt', 'r')\n",
        "\n",
        "uk1_content = uk1.read().replace('\\n','')\n",
        "uk3_content = uk3.read().replace('\\n','')\n",
        "sa_content = sa.read().replace('\\n','')\n",
        "china_content = china1.read().replace('\\n','')\n",
        "china2_content = china2.read().replace('\\n','')\n",
        "china3_content = china3.read().replace('\\n','')\n",
        "china4_content = china4.read().replace('\\n','')\n",
        "\n",
        "sequences = []\n",
        "sequences.append(china_content)\n",
        "sequences.append(china2_content)\n",
        "sequences.append(china3_content)\n",
        "sequences.append(china4_content)\n",
        "sequences.append(sa_content)\n",
        "sequences.append(uk1_content)\n",
        "sequences.append(uk3_content)\n",
        "\n",
        "matrix = np.asarray([np.fromstring(s, dtype=np.uint8) for s in sequences])\n",
        "clusterid, error, nfound = kcluster(matrix, nclusters=3, npass=10)\n",
        "print(clusterid)\n",
        "print(error)\n",
        "print(nfound)"
      ],
      "execution_count": 45,
      "outputs": [
        {
          "output_type": "stream",
          "text": [
            "[2 2 2 1 0 2 2]\n",
            "0.015070643642072215\n",
            "5\n"
          ],
          "name": "stdout"
        },
        {
          "output_type": "stream",
          "text": [
            "/usr/local/lib/python3.7/dist-packages/ipykernel_launcher.py:26: DeprecationWarning: The binary mode of fromstring is deprecated, as it behaves surprisingly on unicode inputs. Use frombuffer instead\n"
          ],
          "name": "stderr"
        }
      ]
    },
    {
      "cell_type": "code",
      "metadata": {
        "colab": {
          "base_uri": "https://localhost:8080/"
        },
        "id": "tqSJj3mm21HY",
        "outputId": "b758897c-2159-469c-84d7-7c390586a5b8"
      },
      "source": [
        "!git status"
      ],
      "execution_count": null,
      "outputs": [
        {
          "output_type": "stream",
          "text": [
            "On branch k-means\n",
            "Your branch is up to date with 'origin/k-means'.\n",
            "\n",
            "nothing to commit, working tree clean\n"
          ],
          "name": "stdout"
        }
      ]
    }
  ]
}